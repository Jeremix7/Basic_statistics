{
 "cells": [
  {
   "cell_type": "markdown",
   "id": "3b966271",
   "metadata": {
    "id": "3b966271",
    "nbgrader": {
     "grade": false,
     "grade_id": "cell-369809025cbfb1e4",
     "locked": true,
     "schema_version": 3,
     "solution": false,
     "task": false
    }
   },
   "source": [
    "# Statistics basics\n",
    "\n",
    "### Data\n",
    "\n",
    "There are three datasets: `customers.csv`, `purchases.csv` and `shops.csv`. They are stored in `data` folder.\n",
    "\n",
    "`customers.csv` contains information about each customer registered in loyalty program.\n",
    "\n",
    "`shops.csv` contains information about shops and special offers they organized. One shop can organize several offers and therefore there are usually several rows that correspond to the same shops. However, some shops do not organize special offers at all, but they are presented in this table nevertheless.\n",
    "\n",
    "`purchases.csv` is a purchase log. It contains information for all customers, either registered in a loyalty program (in this case we know the corresponding customer id) or not registered. One purchase can be a collection of several items, but we see only the total price of everything bought."
   ]
  },
  {
   "cell_type": "markdown",
   "id": "959cfc52",
   "metadata": {
    "id": "959cfc52"
   },
   "source": [
    "First, let us load these datasets and make a quick glance on them."
   ]
  },
  {
   "cell_type": "markdown",
   "id": "b4f3f942",
   "metadata": {
    "id": "b4f3f942",
    "nbgrader": {
     "grade": false,
     "grade_id": "cell-a2f0b3be149e1b44",
     "locked": true,
     "schema_version": 3,
     "solution": false,
     "task": false
    }
   },
   "source": [
    "### Step 1 \n",
    "Load datasets intro variables `customers`, `purchases` and `shops`."
   ]
  },
  {
   "cell_type": "code",
   "execution_count": 1,
   "id": "08197527",
   "metadata": {
    "id": "08197527"
   },
   "outputs": [],
   "source": [
    "import pandas as pd\n",
    "import matplotlib.pyplot as plt\n",
    "\n",
    "%matplotlib inline"
   ]
  },
  {
   "cell_type": "code",
   "execution_count": 2,
   "id": "16c60f2e",
   "metadata": {
    "id": "16c60f2e"
   },
   "outputs": [],
   "source": [
    "customers = pd.read_csv('https://github.com/mbburova/MDS/raw/main/customers.csv', sep = ',')\n",
    "purchases = pd.read_csv('https://github.com/mbburova/MDS/raw/main/purchases.csv', sep = ',')\n",
    "shops = pd.read_csv('https://github.com/mbburova/MDS/raw/main/shops.csv')"
   ]
  },
  {
   "cell_type": "code",
   "execution_count": 3,
   "id": "4335425a",
   "metadata": {},
   "outputs": [
    {
     "data": {
      "text/html": [
       "<div>\n",
       "<style scoped>\n",
       "    .dataframe tbody tr th:only-of-type {\n",
       "        vertical-align: middle;\n",
       "    }\n",
       "\n",
       "    .dataframe tbody tr th {\n",
       "        vertical-align: top;\n",
       "    }\n",
       "\n",
       "    .dataframe thead th {\n",
       "        text-align: right;\n",
       "    }\n",
       "</style>\n",
       "<table border=\"1\" class=\"dataframe\">\n",
       "  <thead>\n",
       "    <tr style=\"text-align: right;\">\n",
       "      <th></th>\n",
       "      <th>customer_id</th>\n",
       "      <th>date</th>\n",
       "      <th>shop_id</th>\n",
       "      <th>total_price</th>\n",
       "    </tr>\n",
       "  </thead>\n",
       "  <tbody>\n",
       "    <tr>\n",
       "      <th>0</th>\n",
       "      <td>0.0</td>\n",
       "      <td>2018-05-04</td>\n",
       "      <td>40</td>\n",
       "      <td>289.673291</td>\n",
       "    </tr>\n",
       "    <tr>\n",
       "      <th>1</th>\n",
       "      <td>0.0</td>\n",
       "      <td>2019-01-26</td>\n",
       "      <td>40</td>\n",
       "      <td>1316.898901</td>\n",
       "    </tr>\n",
       "    <tr>\n",
       "      <th>2</th>\n",
       "      <td>0.0</td>\n",
       "      <td>2018-11-18</td>\n",
       "      <td>42</td>\n",
       "      <td>159.414367</td>\n",
       "    </tr>\n",
       "    <tr>\n",
       "      <th>3</th>\n",
       "      <td>0.0</td>\n",
       "      <td>2018-05-12</td>\n",
       "      <td>42</td>\n",
       "      <td>808.791649</td>\n",
       "    </tr>\n",
       "    <tr>\n",
       "      <th>4</th>\n",
       "      <td>0.0</td>\n",
       "      <td>2019-04-20</td>\n",
       "      <td>42</td>\n",
       "      <td>1207.855038</td>\n",
       "    </tr>\n",
       "  </tbody>\n",
       "</table>\n",
       "</div>"
      ],
      "text/plain": [
       "   customer_id        date  shop_id  total_price\n",
       "0          0.0  2018-05-04       40   289.673291\n",
       "1          0.0  2019-01-26       40  1316.898901\n",
       "2          0.0  2018-11-18       42   159.414367\n",
       "3          0.0  2018-05-12       42   808.791649\n",
       "4          0.0  2019-04-20       42  1207.855038"
      ]
     },
     "execution_count": 3,
     "metadata": {},
     "output_type": "execute_result"
    }
   ],
   "source": [
    "purchases.head(5)"
   ]
  },
  {
   "cell_type": "code",
   "execution_count": 4,
   "id": "3c0827ef",
   "metadata": {},
   "outputs": [
    {
     "data": {
      "text/html": [
       "<div>\n",
       "<style scoped>\n",
       "    .dataframe tbody tr th:only-of-type {\n",
       "        vertical-align: middle;\n",
       "    }\n",
       "\n",
       "    .dataframe tbody tr th {\n",
       "        vertical-align: top;\n",
       "    }\n",
       "\n",
       "    .dataframe thead th {\n",
       "        text-align: right;\n",
       "    }\n",
       "</style>\n",
       "<table border=\"1\" class=\"dataframe\">\n",
       "  <thead>\n",
       "    <tr style=\"text-align: right;\">\n",
       "      <th></th>\n",
       "      <th>customer id</th>\n",
       "      <th>age</th>\n",
       "    </tr>\n",
       "  </thead>\n",
       "  <tbody>\n",
       "    <tr>\n",
       "      <th>0</th>\n",
       "      <td>1149</td>\n",
       "      <td>71.0</td>\n",
       "    </tr>\n",
       "    <tr>\n",
       "      <th>1</th>\n",
       "      <td>750</td>\n",
       "      <td>21.0</td>\n",
       "    </tr>\n",
       "    <tr>\n",
       "      <th>2</th>\n",
       "      <td>428</td>\n",
       "      <td>36.0</td>\n",
       "    </tr>\n",
       "    <tr>\n",
       "      <th>3</th>\n",
       "      <td>360</td>\n",
       "      <td>38.0</td>\n",
       "    </tr>\n",
       "    <tr>\n",
       "      <th>4</th>\n",
       "      <td>816</td>\n",
       "      <td>51.0</td>\n",
       "    </tr>\n",
       "  </tbody>\n",
       "</table>\n",
       "</div>"
      ],
      "text/plain": [
       "   customer id   age\n",
       "0         1149  71.0\n",
       "1          750  21.0\n",
       "2          428  36.0\n",
       "3          360  38.0\n",
       "4          816  51.0"
      ]
     },
     "execution_count": 4,
     "metadata": {},
     "output_type": "execute_result"
    }
   ],
   "source": [
    "customers.head(5)"
   ]
  },
  {
   "cell_type": "code",
   "execution_count": 5,
   "id": "bb30dec1",
   "metadata": {},
   "outputs": [
    {
     "data": {
      "text/html": [
       "<div>\n",
       "<style scoped>\n",
       "    .dataframe tbody tr th:only-of-type {\n",
       "        vertical-align: middle;\n",
       "    }\n",
       "\n",
       "    .dataframe tbody tr th {\n",
       "        vertical-align: top;\n",
       "    }\n",
       "\n",
       "    .dataframe thead th {\n",
       "        text-align: right;\n",
       "    }\n",
       "</style>\n",
       "<table border=\"1\" class=\"dataframe\">\n",
       "  <thead>\n",
       "    <tr style=\"text-align: right;\">\n",
       "      <th></th>\n",
       "      <th>shop_id</th>\n",
       "      <th>offer_begin</th>\n",
       "      <th>offer_end</th>\n",
       "    </tr>\n",
       "  </thead>\n",
       "  <tbody>\n",
       "    <tr>\n",
       "      <th>0</th>\n",
       "      <td>0</td>\n",
       "      <td>2019-02-28</td>\n",
       "      <td>2019-03-13</td>\n",
       "    </tr>\n",
       "    <tr>\n",
       "      <th>1</th>\n",
       "      <td>0</td>\n",
       "      <td>2018-07-22</td>\n",
       "      <td>2018-08-10</td>\n",
       "    </tr>\n",
       "    <tr>\n",
       "      <th>2</th>\n",
       "      <td>0</td>\n",
       "      <td>2018-09-21</td>\n",
       "      <td>2018-09-27</td>\n",
       "    </tr>\n",
       "    <tr>\n",
       "      <th>3</th>\n",
       "      <td>1</td>\n",
       "      <td>NaN</td>\n",
       "      <td>NaN</td>\n",
       "    </tr>\n",
       "    <tr>\n",
       "      <th>4</th>\n",
       "      <td>2</td>\n",
       "      <td>NaN</td>\n",
       "      <td>NaN</td>\n",
       "    </tr>\n",
       "  </tbody>\n",
       "</table>\n",
       "</div>"
      ],
      "text/plain": [
       "   shop_id offer_begin   offer_end\n",
       "0        0  2019-02-28  2019-03-13\n",
       "1        0  2018-07-22  2018-08-10\n",
       "2        0  2018-09-21  2018-09-27\n",
       "3        1         NaN         NaN\n",
       "4        2         NaN         NaN"
      ]
     },
     "execution_count": 5,
     "metadata": {},
     "output_type": "execute_result"
    }
   ],
   "source": [
    "shops.head(5)"
   ]
  },
  {
   "cell_type": "markdown",
   "id": "daf262b6",
   "metadata": {
    "id": "daf262b6",
    "nbgrader": {
     "grade": false,
     "grade_id": "cell-27d72da45a2d686e",
     "locked": true,
     "schema_version": 3,
     "solution": false,
     "task": false
    }
   },
   "source": [
    "### Step 2"
   ]
  },
  {
   "cell_type": "markdown",
   "id": "2b63a595",
   "metadata": {
    "id": "2b63a595",
    "nbgrader": {
     "grade": true,
     "grade_id": "cell-1dbb612417aee226",
     "locked": false,
     "points": 1,
     "schema_version": 3,
     "solution": true,
     "task": false
    }
   },
   "source": [
    "Let's consider the column `total_price` in the dataset `purchases`. Each value in the column depends on the customer, the date and the specific shop. \n",
    "- Each customer has their own preferences and income - one buys an average of 2,000, the other 500. \n",
    "- The cost of products depends on the date over time, for example, in winter the price of bananas was 100, and in summer 50, but let's say a particular buyer has a need for 1 kg of bananas, in winter he will pay 100 for it, and in summer 50.\n",
    "- The price also depends on the specific store, as different stores may have different prices for the same product. Stores can also be segmented depending on the type of customers - one for the middle class, the other for the rich, etc.\n",
    "\n",
    "The above facts indicate that we can't assume that column `total_price` in the dataset `purchases` is an independent and identically distributed sample from some random variable."
   ]
  },
  {
   "cell_type": "markdown",
   "id": "348b2208",
   "metadata": {
    "id": "348b2208",
    "nbgrader": {
     "grade": false,
     "grade_id": "cell-74b47122f0488db1",
     "locked": true,
     "schema_version": 3,
     "solution": false,
     "task": false
    }
   },
   "source": [
    "### Step 3\n",
    "Let's visualise distribution of variable `age` in the dataset `customers`.\n"
   ]
  },
  {
   "cell_type": "code",
   "execution_count": 6,
   "id": "fca53f72",
   "metadata": {
    "deletable": false,
    "id": "fca53f72"
   },
   "outputs": [
    {
     "data": {
      "text/plain": [
       "(array([ 72., 119., 100., 117.,  92., 115.,  91.,  62.,  43.,  13.]),\n",
       " array([12. , 19.6, 27.2, 34.8, 42.4, 50. , 57.6, 65.2, 72.8, 80.4, 88. ]),\n",
       " <BarContainer object of 10 artists>)"
      ]
     },
     "execution_count": 6,
     "metadata": {},
     "output_type": "execute_result"
    },
    {
     "data": {
      "image/png": "[encoded data removed]",
      "text/plain": [
       "<Figure size 640x480 with 1 Axes>"
      ]
     },
     "metadata": {},
     "output_type": "display_data"
    }
   ],
   "source": [
    "plt.hist(x=customers['age'])"
   ]
  },
  {
   "cell_type": "markdown",
   "id": "ffd6ec46",
   "metadata": {
    "id": "ffd6ec46"
   },
   "source": [
    "### Step 4\n",
    "Your employer is going to provide two special offers for all registered customers based on the customer age. They want to pick some threshold age, and offer one special program to customers who are younger than this threshold age and another special program to customers who are older than this age. They want to choose the threshold in such a way that the number of potential participants of both programs coincide (or at least be as close to each other as possible). What is the threshold?"
   ]
  },
  {
   "cell_type": "code",
   "execution_count": 7,
   "id": "58e89991",
   "metadata": {
    "deletable": false,
    "id": "58e89991"
   },
   "outputs": [
    {
     "name": "stdout",
     "output_type": "stream",
     "text": [
      "answer is 43.0\n",
      "difference between age < 43 and age >= 43: 8\n"
     ]
    }
   ],
   "source": [
    "answer = customers['age'].median()\n",
    "print(f'answer is {answer}')\n",
    "print(f\"difference between age < 43 and age >= 43: {abs(len(customers[customers['age'] < 43.0]) - len(customers[customers['age'] >= 43.0]))}\")"
   ]
  },
  {
   "cell_type": "markdown",
   "id": "a538b39b",
   "metadata": {
    "id": "a538b39b"
   },
   "source": [
    "### Step 5\n",
    "\n",
    "Let us visualize how purchases are distributed around a year. For example, it is known that December is a hot month for retail due to Christmas.\n",
    "\n",
    "To do it, we have to extract a month from the `date` variable of `purchases` table and create a new variable (new dataframe column) that contains this month, then plot distribution of this variable.\n"
   ]
  },
  {
   "cell_type": "code",
   "execution_count": 8,
   "id": "65c6dde9",
   "metadata": {
    "id": "65c6dde9"
   },
   "outputs": [],
   "source": [
    "purchases[\"date\"] = pd.to_datetime(purchases[\"date\"])"
   ]
  },
  {
   "cell_type": "markdown",
   "id": "31fb37ce",
   "metadata": {
    "id": "31fb37ce"
   },
   "source": [
    "Now let us return to our problem here. We want to make a plot that shows how many purchases we have per month. In other words, we want to create and consider new variable `month`. This is a categorical variable.\n"
   ]
  },
  {
   "cell_type": "code",
   "execution_count": 11,
   "id": "0d2e6cdc",
   "metadata": {},
   "outputs": [
    {
     "data": {
      "text/html": [
       "<div>\n",
       "<style scoped>\n",
       "    .dataframe tbody tr th:only-of-type {\n",
       "        vertical-align: middle;\n",
       "    }\n",
       "\n",
       "    .dataframe tbody tr th {\n",
       "        vertical-align: top;\n",
       "    }\n",
       "\n",
       "    .dataframe thead th {\n",
       "        text-align: right;\n",
       "    }\n",
       "</style>\n",
       "<table border=\"1\" class=\"dataframe\">\n",
       "  <thead>\n",
       "    <tr style=\"text-align: right;\">\n",
       "      <th></th>\n",
       "      <th>customer_id</th>\n",
       "      <th>date</th>\n",
       "      <th>shop_id</th>\n",
       "      <th>total_price</th>\n",
       "      <th>month</th>\n",
       "    </tr>\n",
       "  </thead>\n",
       "  <tbody>\n",
       "    <tr>\n",
       "      <th>0</th>\n",
       "      <td>0.0</td>\n",
       "      <td>2018-05-04</td>\n",
       "      <td>40</td>\n",
       "      <td>289.673291</td>\n",
       "      <td>5</td>\n",
       "    </tr>\n",
       "    <tr>\n",
       "      <th>1</th>\n",
       "      <td>0.0</td>\n",
       "      <td>2019-01-26</td>\n",
       "      <td>40</td>\n",
       "      <td>1316.898901</td>\n",
       "      <td>1</td>\n",
       "    </tr>\n",
       "    <tr>\n",
       "      <th>2</th>\n",
       "      <td>0.0</td>\n",
       "      <td>2018-11-18</td>\n",
       "      <td>42</td>\n",
       "      <td>159.414367</td>\n",
       "      <td>11</td>\n",
       "    </tr>\n",
       "    <tr>\n",
       "      <th>3</th>\n",
       "      <td>0.0</td>\n",
       "      <td>2018-05-12</td>\n",
       "      <td>42</td>\n",
       "      <td>808.791649</td>\n",
       "      <td>5</td>\n",
       "    </tr>\n",
       "    <tr>\n",
       "      <th>4</th>\n",
       "      <td>0.0</td>\n",
       "      <td>2019-04-20</td>\n",
       "      <td>42</td>\n",
       "      <td>1207.855038</td>\n",
       "      <td>4</td>\n",
       "    </tr>\n",
       "  </tbody>\n",
       "</table>\n",
       "</div>"
      ],
      "text/plain": [
       "   customer_id       date  shop_id  total_price  month\n",
       "0          0.0 2018-05-04       40   289.673291      5\n",
       "1          0.0 2019-01-26       40  1316.898901      1\n",
       "2          0.0 2018-11-18       42   159.414367     11\n",
       "3          0.0 2018-05-12       42   808.791649      5\n",
       "4          0.0 2019-04-20       42  1207.855038      4"
      ]
     },
     "execution_count": 11,
     "metadata": {},
     "output_type": "execute_result"
    }
   ],
   "source": [
    "purchases['month'] = purchases['date'].dt.month\n",
    "purchases.head(5)"
   ]
  },
  {
   "cell_type": "code",
   "execution_count": 12,
   "id": "6400fc6b",
   "metadata": {
    "deletable": false,
    "id": "6400fc6b",
    "nbgrader": {
     "checksum": "fe3fa9d208804f31db3a95680239a8e9",
     "grade": false,
     "grade_id": "cell-fab958f31a3bfdb3",
     "locked": false,
     "schema_version": 3,
     "solution": true,
     "task": false
    }
   },
   "outputs": [
    {
     "data": {
      "text/plain": [
       "Text(0, 0.5, 'Number of purchases')"
      ]
     },
     "execution_count": 12,
     "metadata": {},
     "output_type": "execute_result"
    },
    {
     "data": {
      "image/png": "[encoded data removed]",
      "text/plain": [
       "<Figure size 800x600 with 1 Axes>"
      ]
     },
     "metadata": {},
     "output_type": "display_data"
    }
   ],
   "source": [
    "plt.figure(figsize=(8, 6))\n",
    "x = range(1, 13)\n",
    "y = purchases['month'].value_counts().sort_index()\n",
    "plt.bar(x, y)\n",
    "plt.xticks(x)\n",
    "plt.xlabel(\"Month\")\n",
    "plt.ylabel(\"Number of purchases\")"
   ]
  },
  {
   "cell_type": "markdown",
   "id": "27c30732",
   "metadata": {
    "id": "27c30732"
   },
   "source": [
    "### Step 6\n",
    "\n",
    "What's wrong with May? Why do we have so many purchases? Are there any unknown holidays in this month? Or it's some other reason? Let's investigate the data."
   ]
  },
  {
   "cell_type": "markdown",
   "id": "6c9a9a41",
   "metadata": {},
   "source": [
    "Let's look at the distribution of purchases in May depending on the day of the month:"
   ]
  },
  {
   "cell_type": "code",
   "execution_count": 13,
   "id": "b56e8c0e",
   "metadata": {
    "id": "b56e8c0e",
    "nbgrader": {
     "grade": true,
     "grade_id": "cell-b1bb61291c8a3eda",
     "locked": false,
     "points": 0,
     "schema_version": 3,
     "solution": true,
     "task": false
    }
   },
   "outputs": [
    {
     "name": "stderr",
     "output_type": "stream",
     "text": [
      "C:\\Users\\y2966\\AppData\\Local\\Temp\\ipykernel_10888\\4236694067.py:3: SettingWithCopyWarning: \n",
      "A value is trying to be set on a copy of a slice from a DataFrame.\n",
      "Try using .loc[row_indexer,col_indexer] = value instead\n",
      "\n",
      "See the caveats in the documentation: https://pandas.pydata.org/pandas-docs/stable/user_guide/indexing.html#returning-a-view-versus-a-copy\n",
      "  purchases_in_may['day'] = purchases_in_may['date'].dt.day\n"
     ]
    },
    {
     "data": {
      "text/plain": [
       "Text(0, 0.5, 'Number of purchases')"
      ]
     },
     "execution_count": 13,
     "metadata": {},
     "output_type": "execute_result"
    },
    {
     "data": {
      "image/png": "[encoded data removed]",
      "text/plain": [
       "<Figure size 1000x600 with 1 Axes>"
      ]
     },
     "metadata": {},
     "output_type": "display_data"
    }
   ],
   "source": [
    "purchases_in_may = purchases[purchases['month'] == 5]\n",
    "purchases_in_may['day'] = purchases_in_may['date'].dt.day\n",
    "\n",
    "plt.figure(figsize=(10, 6))\n",
    "x_may = range(1, 32)\n",
    "y_may = purchases_in_may['day'].value_counts().sort_index()\n",
    "\n",
    "plt.xticks(range(1, 32, 2))\n",
    "plt.bar(x_may, y_may)\n",
    "plt.title(\"Number of purchases in May\")\n",
    "plt.xlabel(\"Day\")\n",
    "plt.ylabel(\"Number of purchases\")"
   ]
  },
  {
   "cell_type": "markdown",
   "id": "4163d244",
   "metadata": {},
   "source": [
    "Let's look at the distribution of purchases in other months depending on the day of the month:"
   ]
  },
  {
   "cell_type": "code",
   "execution_count": 14,
   "id": "147e63e6",
   "metadata": {},
   "outputs": [
    {
     "name": "stderr",
     "output_type": "stream",
     "text": [
      "C:\\Users\\y2966\\AppData\\Local\\Temp\\ipykernel_10888\\3241165970.py:2: SettingWithCopyWarning: \n",
      "A value is trying to be set on a copy of a slice from a DataFrame.\n",
      "Try using .loc[row_indexer,col_indexer] = value instead\n",
      "\n",
      "See the caveats in the documentation: https://pandas.pydata.org/pandas-docs/stable/user_guide/indexing.html#returning-a-view-versus-a-copy\n",
      "  purchases_in_april['day'] = purchases_in_april['date'].dt.day\n"
     ]
    },
    {
     "data": {
      "text/plain": [
       "Text(0, 0.5, 'Number of purchases')"
      ]
     },
     "execution_count": 14,
     "metadata": {},
     "output_type": "execute_result"
    },
    {
     "data": {
      "image/png": "[encoded data removed]",
      "text/plain": [
       "<Figure size 500x300 with 1 Axes>"
      ]
     },
     "metadata": {},
     "output_type": "display_data"
    }
   ],
   "source": [
    "purchases_in_april = purchases[purchases['month'] == 4]\n",
    "purchases_in_april['day'] = purchases_in_april['date'].dt.day\n",
    "\n",
    "plt.figure(figsize=(5, 3))\n",
    "x_april = sorted(set(purchases_in_april['day'].values))\n",
    "y_april = purchases_in_april['day'].value_counts().sort_index()\n",
    "plt.bar(x_april, y_april)\n",
    "plt.title(\"Number of purchases in April\")\n",
    "plt.xlabel(\"Day\")\n",
    "plt.ylabel(\"Number of purchases\")"
   ]
  },
  {
   "cell_type": "code",
   "execution_count": 15,
   "id": "5578b458",
   "metadata": {},
   "outputs": [
    {
     "name": "stderr",
     "output_type": "stream",
     "text": [
      "C:\\Users\\y2966\\AppData\\Local\\Temp\\ipykernel_10888\\1252736818.py:2: SettingWithCopyWarning: \n",
      "A value is trying to be set on a copy of a slice from a DataFrame.\n",
      "Try using .loc[row_indexer,col_indexer] = value instead\n",
      "\n",
      "See the caveats in the documentation: https://pandas.pydata.org/pandas-docs/stable/user_guide/indexing.html#returning-a-view-versus-a-copy\n",
      "  purchases_in_august['day'] = purchases_in_august['date'].dt.day\n"
     ]
    },
    {
     "data": {
      "text/plain": [
       "Text(0, 0.5, 'Number of purchases')"
      ]
     },
     "execution_count": 15,
     "metadata": {},
     "output_type": "execute_result"
    },
    {
     "data": {
      "image/png": "[encoded data removed]",
      "text/plain": [
       "<Figure size 500x300 with 1 Axes>"
      ]
     },
     "metadata": {},
     "output_type": "display_data"
    }
   ],
   "source": [
    "purchases_in_august = purchases[purchases['month'] == 8]\n",
    "purchases_in_august['day'] = purchases_in_august['date'].dt.day\n",
    "\n",
    "plt.figure(figsize=(5, 3))\n",
    "x_august = sorted(set(purchases_in_august['day'].values))\n",
    "y_august = purchases_in_august['day'].value_counts().sort_index()\n",
    "plt.bar(x_august, y_august)\n",
    "plt.title(\"Number of purchases in August\")\n",
    "plt.xlabel(\"Day\")\n",
    "plt.ylabel(\"Number of purchases\")"
   ]
  },
  {
   "cell_type": "markdown",
   "id": "40815fd3",
   "metadata": {},
   "source": [
    "We see that there is a certain pattern of shopping behavior in each month, but there are many more purchases in early May. This may be due to long weekends, but other weeks are significantly different from other months."
   ]
  },
  {
   "cell_type": "code",
   "execution_count": 16,
   "id": "11727216",
   "metadata": {},
   "outputs": [
    {
     "data": {
      "text/plain": [
       "<matplotlib.legend.Legend at 0x2111fc8b690>"
      ]
     },
     "execution_count": 16,
     "metadata": {},
     "output_type": "execute_result"
    },
    {
     "data": {
      "image/png": "[encoded data removed]",
      "text/plain": [
       "<Figure size 640x480 with 1 Axes>"
      ]
     },
     "metadata": {},
     "output_type": "display_data"
    }
   ],
   "source": [
    "import numpy as np\n",
    "\n",
    "X = np.array(x_may)\n",
    "plt.bar(x_august, y_august, width=0.5, label='August')\n",
    "plt.bar(X + 0.5, y_may, width=0.5, label='May')\n",
    "\n",
    "plt.title(\"Number of purchases in May and August\")\n",
    "plt.xlabel(\"Day\")\n",
    "plt.ylabel(\"Number of purchases\")\n",
    "plt.legend()"
   ]
  },
  {
   "cell_type": "markdown",
   "id": "01e82a0e",
   "metadata": {},
   "source": [
    "We may see that the number of purchases in May significantly exceeds purhases in other months, even outside the holidays."
   ]
  },
  {
   "cell_type": "markdown",
   "id": "bfdbf5d9",
   "metadata": {},
   "source": [
    "Let's check the number of purchases in each months in 2018 and 2019:"
   ]
  },
  {
   "cell_type": "code",
   "execution_count": 17,
   "id": "6bff86c1",
   "metadata": {},
   "outputs": [
    {
     "data": {
      "text/plain": [
       "<matplotlib.legend.Legend at 0x2111fdd7d90>"
      ]
     },
     "execution_count": 17,
     "metadata": {},
     "output_type": "execute_result"
    },
    {
     "data": {
      "image/png": "[encoded data removed]",
      "text/plain": [
       "<Figure size 640x480 with 1 Axes>"
      ]
     },
     "metadata": {},
     "output_type": "display_data"
    }
   ],
   "source": [
    "purchases['year'] = purchases['date'].dt.year\n",
    "purchases['month'] = purchases['date'].dt.month\n",
    "Y_2018 = purchases.loc[purchases['year'] == 2018]['month'].value_counts().sort_index()\n",
    "X_2018 = np.array(Y_2018.index.to_list())\n",
    "Y_2019 = purchases.loc[purchases['year'] == 2019]['month'].value_counts().sort_index()\n",
    "X_2019 = np.array(Y_2019.index.to_list())\n",
    "months = sorted(set(Y_2018.index.to_list() + Y_2019.index.to_list()))\n",
    "X = np.array(months)\n",
    "\n",
    "plt.bar(X_2018, Y_2018, width=0.5, label='2018')\n",
    "plt.bar(X_2019 + 0.5, Y_2019, width=-0.5, label='2019')\n",
    "plt.xticks(range(1, 12))\n",
    "plt.title('Number of purchases in each months in 2018 and 2019')\n",
    "plt.legend()\n"
   ]
  },
  {
   "cell_type": "markdown",
   "id": "e22450a3",
   "metadata": {
    "id": "e22450a3",
    "nbgrader": {
     "grade": true,
     "grade_id": "cell-eb9644aaa9d733f7",
     "locked": false,
     "points": 1,
     "schema_version": 3,
     "solution": true,
     "task": false
    }
   },
   "source": [
    "We observe that the number of offers in May is higher than in other months. This is due to the fact that our data includes information about purchases from May 2018 to the beginning of June 2019, so we have purchases data for May 2018 and May 2019, which explains such a large number of sales in May. In June, sales also overlap, but only slightly."
   ]
  },
  {
   "cell_type": "markdown",
   "id": "bfb696fc",
   "metadata": {
    "id": "bfb696fc",
    "nbgrader": {
     "grade": false,
     "grade_id": "cell-e1cde254c63033c6",
     "locked": true,
     "schema_version": 3,
     "solution": false,
     "task": false
    }
   },
   "source": [
    "### Step 7\n",
    "We see that people go to shop more often in December. But do they spend more per each visit? Let us draw a bar plot that shows the average purchase total price per month of year."
   ]
  },
  {
   "cell_type": "code",
   "execution_count": null,
   "id": "251fc076",
   "metadata": {
    "deletable": false,
    "id": "251fc076"
   },
   "outputs": [
    {
     "data": {
      "text/html": [
       "<div>\n",
       "<style scoped>\n",
       "    .dataframe tbody tr th:only-of-type {\n",
       "        vertical-align: middle;\n",
       "    }\n",
       "\n",
       "    .dataframe tbody tr th {\n",
       "        vertical-align: top;\n",
       "    }\n",
       "\n",
       "    .dataframe thead th {\n",
       "        text-align: right;\n",
       "    }\n",
       "</style>\n",
       "<table border=\"1\" class=\"dataframe\">\n",
       "  <thead>\n",
       "    <tr style=\"text-align: right;\">\n",
       "      <th></th>\n",
       "      <th>customer_id</th>\n",
       "      <th>date</th>\n",
       "      <th>shop_id</th>\n",
       "      <th>total_price</th>\n",
       "      <th>month</th>\n",
       "      <th>year</th>\n",
       "    </tr>\n",
       "  </thead>\n",
       "  <tbody>\n",
       "    <tr>\n",
       "      <th>0</th>\n",
       "      <td>0.0</td>\n",
       "      <td>2018-05-04</td>\n",
       "      <td>40</td>\n",
       "      <td>289.673291</td>\n",
       "      <td>5</td>\n",
       "      <td>2018</td>\n",
       "    </tr>\n",
       "    <tr>\n",
       "      <th>1</th>\n",
       "      <td>0.0</td>\n",
       "      <td>2019-01-26</td>\n",
       "      <td>40</td>\n",
       "      <td>1316.898901</td>\n",
       "      <td>1</td>\n",
       "      <td>2019</td>\n",
       "    </tr>\n",
       "    <tr>\n",
       "      <th>2</th>\n",
       "      <td>0.0</td>\n",
       "      <td>2018-11-18</td>\n",
       "      <td>42</td>\n",
       "      <td>159.414367</td>\n",
       "      <td>11</td>\n",
       "      <td>2018</td>\n",
       "    </tr>\n",
       "    <tr>\n",
       "      <th>3</th>\n",
       "      <td>0.0</td>\n",
       "      <td>2018-05-12</td>\n",
       "      <td>42</td>\n",
       "      <td>808.791649</td>\n",
       "      <td>5</td>\n",
       "      <td>2018</td>\n",
       "    </tr>\n",
       "    <tr>\n",
       "      <th>4</th>\n",
       "      <td>0.0</td>\n",
       "      <td>2019-04-20</td>\n",
       "      <td>42</td>\n",
       "      <td>1207.855038</td>\n",
       "      <td>4</td>\n",
       "      <td>2019</td>\n",
       "    </tr>\n",
       "  </tbody>\n",
       "</table>\n",
       "</div>"
      ],
      "text/plain": [
       "   customer_id       date  shop_id  total_price  month  year\n",
       "0          0.0 2018-05-04       40   289.673291      5  2018\n",
       "1          0.0 2019-01-26       40  1316.898901      1  2019\n",
       "2          0.0 2018-11-18       42   159.414367     11  2018\n",
       "3          0.0 2018-05-12       42   808.791649      5  2018\n",
       "4          0.0 2019-04-20       42  1207.855038      4  2019"
      ]
     },
     "execution_count": 18,
     "metadata": {},
     "output_type": "execute_result"
    }
   ],
   "source": [
    "purchases.head()"
   ]
  },
  {
   "cell_type": "code",
   "execution_count": 19,
   "id": "364f9cbf",
   "metadata": {},
   "outputs": [
    {
     "data": {
      "text/plain": [
       "Text(0, 0.5, 'Average purchase total price')"
      ]
     },
     "execution_count": 19,
     "metadata": {},
     "output_type": "execute_result"
    },
    {
     "data": {
      "image/png": "[encoded data removed]",
      "text/plain": [
       "<Figure size 640x480 with 1 Axes>"
      ]
     },
     "metadata": {},
     "output_type": "display_data"
    }
   ],
   "source": [
    "x = range(1, 13)\n",
    "y = purchases[['month', 'total_price']].groupby(by='month').mean()['total_price']\n",
    "plt.bar(x, y)\n",
    "plt.xticks(x)\n",
    "plt.title('Average purchase total price per month of year')\n",
    "plt.xlabel(\"Month\")\n",
    "plt.ylabel(\"Average purchase total price\")"
   ]
  },
  {
   "cell_type": "markdown",
   "id": "d961812c",
   "metadata": {
    "id": "d961812c"
   },
   "source": [
    "### Step 8\n",
    "Okay, we see that there is a difference between December's mean purchase price and other month's. But we also see that the average price is different in different months (not including December), probably due to some random factors. Is it possible that December behaviour is just a result of fluke? To answer this question, let us compare two months, for example, December and November, in a statistically rigorous way.\n"
   ]
  },
  {
   "cell_type": "code",
   "execution_count": 20,
   "id": "84e5c493",
   "metadata": {
    "deletable": false,
    "id": "84e5c493"
   },
   "outputs": [
    {
     "name": "stdout",
     "output_type": "stream",
     "text": [
      "t-statistic = 12\n",
      "p-value = 2.8875117936923646e-19\n"
     ]
    }
   ],
   "source": [
    "from scipy.stats import ttest_rel\n",
    "\n",
    "data = pd.pivot_table(purchases, index=['month', 'shop_id'], values='total_price', aggfunc='mean').reset_index()\n",
    "data = data.loc[data['month'] >= 11]\n",
    "data_november = data[data['month'] == 11]\n",
    "data_december = data[data['month'] == 12]\n",
    "sample_november = data_november['total_price']\n",
    "sample_december = data_december['total_price']\n",
    "\n",
    "statistic, p_value = ttest_rel(a=sample_december, \n",
    "          b=sample_november,\n",
    "          alternative='two-sided')\n",
    "print(f't-statistic = {round(statistic)}')\n",
    "print(f'p-value = {p_value}')"
   ]
  },
  {
   "cell_type": "code",
   "execution_count": 21,
   "id": "bae17cd6",
   "metadata": {},
   "outputs": [
    {
     "data": {
      "text/plain": [
       "Text(0, 0.5, 'Average purchase price in shop')"
      ]
     },
     "execution_count": 21,
     "metadata": {},
     "output_type": "execute_result"
    },
    {
     "data": {
      "image/png": "[encoded data removed]",
      "text/plain": [
       "<Figure size 640x480 with 1 Axes>"
      ]
     },
     "metadata": {},
     "output_type": "display_data"
    }
   ],
   "source": [
    "plt.bar(range(len(sample_november)), sample_november, alpha=0.5, label='november')\n",
    "plt.bar(range(len(sample_december)), sample_december, alpha=0.3, label='december')\n",
    "plt.legend()\n",
    "plt.xlabel('Shop')\n",
    "plt.ylabel('Average purchase price in shop')"
   ]
  },
  {
   "cell_type": "markdown",
   "id": "dd4a384c",
   "metadata": {
    "id": "dd4a384c"
   },
   "source": [
    "### Step 9"
   ]
  },
  {
   "cell_type": "markdown",
   "id": "81ff95b8",
   "metadata": {
    "id": "81ff95b8"
   },
   "source": [
    "Now let us investigate customer behaviour. First of all we are interested in the relation between customers' age and their spendings per each purchase. To study this relation, first join tables `purchases` and `customers` in such a way to obtain information on customer's age for each purchase."
   ]
  },
  {
   "cell_type": "code",
   "execution_count": 22,
   "id": "2ac58dc5",
   "metadata": {},
   "outputs": [
    {
     "data": {
      "text/html": [
       "<div>\n",
       "<style scoped>\n",
       "    .dataframe tbody tr th:only-of-type {\n",
       "        vertical-align: middle;\n",
       "    }\n",
       "\n",
       "    .dataframe tbody tr th {\n",
       "        vertical-align: top;\n",
       "    }\n",
       "\n",
       "    .dataframe thead th {\n",
       "        text-align: right;\n",
       "    }\n",
       "</style>\n",
       "<table border=\"1\" class=\"dataframe\">\n",
       "  <thead>\n",
       "    <tr style=\"text-align: right;\">\n",
       "      <th></th>\n",
       "      <th>customer_id</th>\n",
       "      <th>date</th>\n",
       "      <th>shop_id</th>\n",
       "      <th>total_price</th>\n",
       "      <th>month</th>\n",
       "      <th>year</th>\n",
       "    </tr>\n",
       "  </thead>\n",
       "  <tbody>\n",
       "    <tr>\n",
       "      <th>0</th>\n",
       "      <td>0.0</td>\n",
       "      <td>2018-05-04</td>\n",
       "      <td>40</td>\n",
       "      <td>289.673291</td>\n",
       "      <td>5</td>\n",
       "      <td>2018</td>\n",
       "    </tr>\n",
       "    <tr>\n",
       "      <th>1</th>\n",
       "      <td>0.0</td>\n",
       "      <td>2019-01-26</td>\n",
       "      <td>40</td>\n",
       "      <td>1316.898901</td>\n",
       "      <td>1</td>\n",
       "      <td>2019</td>\n",
       "    </tr>\n",
       "    <tr>\n",
       "      <th>2</th>\n",
       "      <td>0.0</td>\n",
       "      <td>2018-11-18</td>\n",
       "      <td>42</td>\n",
       "      <td>159.414367</td>\n",
       "      <td>11</td>\n",
       "      <td>2018</td>\n",
       "    </tr>\n",
       "  </tbody>\n",
       "</table>\n",
       "</div>"
      ],
      "text/plain": [
       "   customer_id       date  shop_id  total_price  month  year\n",
       "0          0.0 2018-05-04       40   289.673291      5  2018\n",
       "1          0.0 2019-01-26       40  1316.898901      1  2019\n",
       "2          0.0 2018-11-18       42   159.414367     11  2018"
      ]
     },
     "execution_count": 22,
     "metadata": {},
     "output_type": "execute_result"
    }
   ],
   "source": [
    "purchases.head(3)"
   ]
  },
  {
   "cell_type": "code",
   "execution_count": 23,
   "id": "b00d7789",
   "metadata": {},
   "outputs": [
    {
     "data": {
      "text/html": [
       "<div>\n",
       "<style scoped>\n",
       "    .dataframe tbody tr th:only-of-type {\n",
       "        vertical-align: middle;\n",
       "    }\n",
       "\n",
       "    .dataframe tbody tr th {\n",
       "        vertical-align: top;\n",
       "    }\n",
       "\n",
       "    .dataframe thead th {\n",
       "        text-align: right;\n",
       "    }\n",
       "</style>\n",
       "<table border=\"1\" class=\"dataframe\">\n",
       "  <thead>\n",
       "    <tr style=\"text-align: right;\">\n",
       "      <th></th>\n",
       "      <th>customer id</th>\n",
       "      <th>age</th>\n",
       "    </tr>\n",
       "  </thead>\n",
       "  <tbody>\n",
       "    <tr>\n",
       "      <th>0</th>\n",
       "      <td>1149</td>\n",
       "      <td>71.0</td>\n",
       "    </tr>\n",
       "    <tr>\n",
       "      <th>1</th>\n",
       "      <td>750</td>\n",
       "      <td>21.0</td>\n",
       "    </tr>\n",
       "    <tr>\n",
       "      <th>2</th>\n",
       "      <td>428</td>\n",
       "      <td>36.0</td>\n",
       "    </tr>\n",
       "  </tbody>\n",
       "</table>\n",
       "</div>"
      ],
      "text/plain": [
       "   customer id   age\n",
       "0         1149  71.0\n",
       "1          750  21.0\n",
       "2          428  36.0"
      ]
     },
     "execution_count": 23,
     "metadata": {},
     "output_type": "execute_result"
    }
   ],
   "source": [
    "customers.head(3)"
   ]
  },
  {
   "cell_type": "code",
   "execution_count": 24,
   "id": "63feafb6",
   "metadata": {},
   "outputs": [
    {
     "data": {
      "text/html": [
       "<div>\n",
       "<style scoped>\n",
       "    .dataframe tbody tr th:only-of-type {\n",
       "        vertical-align: middle;\n",
       "    }\n",
       "\n",
       "    .dataframe tbody tr th {\n",
       "        vertical-align: top;\n",
       "    }\n",
       "\n",
       "    .dataframe thead th {\n",
       "        text-align: right;\n",
       "    }\n",
       "</style>\n",
       "<table border=\"1\" class=\"dataframe\">\n",
       "  <thead>\n",
       "    <tr style=\"text-align: right;\">\n",
       "      <th></th>\n",
       "      <th>customer_id</th>\n",
       "      <th>age</th>\n",
       "      <th>date</th>\n",
       "      <th>shop_id</th>\n",
       "      <th>total_price</th>\n",
       "      <th>month</th>\n",
       "      <th>year</th>\n",
       "    </tr>\n",
       "  </thead>\n",
       "  <tbody>\n",
       "    <tr>\n",
       "      <th>0</th>\n",
       "      <td>1149</td>\n",
       "      <td>71.0</td>\n",
       "      <td>2019-05-15</td>\n",
       "      <td>60</td>\n",
       "      <td>40.143994</td>\n",
       "      <td>5</td>\n",
       "      <td>2019</td>\n",
       "    </tr>\n",
       "    <tr>\n",
       "      <th>1</th>\n",
       "      <td>1149</td>\n",
       "      <td>71.0</td>\n",
       "      <td>2018-06-14</td>\n",
       "      <td>60</td>\n",
       "      <td>307.206163</td>\n",
       "      <td>6</td>\n",
       "      <td>2018</td>\n",
       "    </tr>\n",
       "    <tr>\n",
       "      <th>2</th>\n",
       "      <td>1149</td>\n",
       "      <td>71.0</td>\n",
       "      <td>2018-09-23</td>\n",
       "      <td>4</td>\n",
       "      <td>1327.170365</td>\n",
       "      <td>9</td>\n",
       "      <td>2018</td>\n",
       "    </tr>\n",
       "  </tbody>\n",
       "</table>\n",
       "</div>"
      ],
      "text/plain": [
       "   customer_id   age       date  shop_id  total_price  month  year\n",
       "0         1149  71.0 2019-05-15       60    40.143994      5  2019\n",
       "1         1149  71.0 2018-06-14       60   307.206163      6  2018\n",
       "2         1149  71.0 2018-09-23        4  1327.170365      9  2018"
      ]
     },
     "execution_count": 24,
     "metadata": {},
     "output_type": "execute_result"
    }
   ],
   "source": [
    "purchases_c = customers.rename(columns={'customer id': 'customer_id'}).merge(purchases,\n",
    "                                                                             on='customer_id')\n",
    "purchases_c = purchases_c.dropna(subset=['customer_id'])\n",
    "purchases_c.head(3)"
   ]
  },
  {
   "cell_type": "markdown",
   "id": "2ba6e081",
   "metadata": {
    "id": "2ba6e081"
   },
   "source": [
    "### Step 10"
   ]
  },
  {
   "cell_type": "markdown",
   "id": "dcbb0858",
   "metadata": {
    "id": "dcbb0858",
    "nbgrader": {
     "grade": false,
     "grade_id": "cell-9b665eced0f53414",
     "locked": true,
     "schema_version": 3,
     "solution": false,
     "task": false
    }
   },
   "source": [
    "To visualize the relation between customer's age and their spendings, we have to transform our table in such a way that one observation (row) corresponds to one customer. Let us do it by groupping and aggregating. Transform table `purchases_c` to find average `total_price` for each customer and keep column `age`.\n"
   ]
  },
  {
   "cell_type": "code",
   "execution_count": 27,
   "id": "d65a057b",
   "metadata": {
    "deletable": false,
    "id": "d65a057b",
    "nbgrader": {
     "checksum": "9a1dc0250b79d8890516e7bc760f6b92",
     "grade": false,
     "grade_id": "cell-e76268ef19a434d2",
     "locked": false,
     "schema_version": 3,
     "solution": true,
     "task": false
    }
   },
   "outputs": [
    {
     "name": "stderr",
     "output_type": "stream",
     "text": [
      "C:\\Users\\y2966\\AppData\\Local\\Temp\\ipykernel_10888\\3389457417.py:2: FutureWarning: The default value of numeric_only in DataFrameGroupBy.mean is deprecated. In a future version, numeric_only will default to False. Either specify numeric_only or select only columns which should be valid for the function.\n",
      "  purchases_c_mean = purchases_c.groupby(\"customer_id\").mean().drop(['shop_id'], axis=1)\n"
     ]
    }
   ],
   "source": [
    "purchases_c_mean = purchases_c.groupby(\"customer_id\").mean().drop(['shop_id'], axis=1)"
   ]
  },
  {
   "cell_type": "markdown",
   "id": "eafce501",
   "metadata": {
    "id": "eafce501"
   },
   "source": [
    "### Step 11\n",
    "Let us visualize the relation between customer's `age` (horizontal axis) and their average `total_price` (vertical axis)."
   ]
  },
  {
   "cell_type": "code",
   "execution_count": 29,
   "id": "136db8df",
   "metadata": {},
   "outputs": [
    {
     "data": {
      "text/html": [
       "<div>\n",
       "<style scoped>\n",
       "    .dataframe tbody tr th:only-of-type {\n",
       "        vertical-align: middle;\n",
       "    }\n",
       "\n",
       "    .dataframe tbody tr th {\n",
       "        vertical-align: top;\n",
       "    }\n",
       "\n",
       "    .dataframe thead th {\n",
       "        text-align: right;\n",
       "    }\n",
       "</style>\n",
       "<table border=\"1\" class=\"dataframe\">\n",
       "  <thead>\n",
       "    <tr style=\"text-align: right;\">\n",
       "      <th></th>\n",
       "      <th>age</th>\n",
       "      <th>total_price</th>\n",
       "      <th>month</th>\n",
       "      <th>year</th>\n",
       "    </tr>\n",
       "    <tr>\n",
       "      <th>customer_id</th>\n",
       "      <th></th>\n",
       "      <th></th>\n",
       "      <th></th>\n",
       "      <th></th>\n",
       "    </tr>\n",
       "  </thead>\n",
       "  <tbody>\n",
       "    <tr>\n",
       "      <th>0</th>\n",
       "      <td>38.0</td>\n",
       "      <td>711.291471</td>\n",
       "      <td>6.388889</td>\n",
       "      <td>2018.333333</td>\n",
       "    </tr>\n",
       "    <tr>\n",
       "      <th>2</th>\n",
       "      <td>60.0</td>\n",
       "      <td>380.286822</td>\n",
       "      <td>7.093750</td>\n",
       "      <td>2018.250000</td>\n",
       "    </tr>\n",
       "    <tr>\n",
       "      <th>3</th>\n",
       "      <td>NaN</td>\n",
       "      <td>392.825462</td>\n",
       "      <td>6.366667</td>\n",
       "      <td>2018.400000</td>\n",
       "    </tr>\n",
       "  </tbody>\n",
       "</table>\n",
       "</div>"
      ],
      "text/plain": [
       "              age  total_price     month         year\n",
       "customer_id                                          \n",
       "0            38.0   711.291471  6.388889  2018.333333\n",
       "2            60.0   380.286822  7.093750  2018.250000\n",
       "3             NaN   392.825462  6.366667  2018.400000"
      ]
     },
     "execution_count": 29,
     "metadata": {},
     "output_type": "execute_result"
    }
   ],
   "source": [
    "purchases_c_mean.head(3)"
   ]
  },
  {
   "cell_type": "code",
   "execution_count": 30,
   "id": "7729114f",
   "metadata": {
    "deletable": false,
    "id": "7729114f",
    "nbgrader": {
     "checksum": "c455540eb28600e30bf18c62c5196b1a",
     "grade": false,
     "grade_id": "cell-74bf2c586a384ceb",
     "locked": false,
     "schema_version": 3,
     "solution": true,
     "task": false
    }
   },
   "outputs": [
    {
     "data": {
      "text/plain": [
       "Text(0, 0.5, 'Total price')"
      ]
     },
     "execution_count": 30,
     "metadata": {},
     "output_type": "execute_result"
    },
    {
     "data": {
      "image/png": "[encoded data removed]",
      "text/plain": [
       "<Figure size 640x480 with 1 Axes>"
      ]
     },
     "metadata": {},
     "output_type": "display_data"
    }
   ],
   "source": [
    "x = purchases_c_mean['age']\n",
    "y = purchases_c_mean['total_price']\n",
    "plt.scatter(x, y)\n",
    "plt.xlabel('Age')\n",
    "plt.ylabel('Total price')"
   ]
  },
  {
   "cell_type": "markdown",
   "id": "c3800da6",
   "metadata": {
    "id": "c3800da6"
   },
   "source": [
    "### Step 12\n",
    "Find Pearson's correlation coefficient between age and total price."
   ]
  },
  {
   "cell_type": "code",
   "execution_count": 31,
   "id": "0a46ecc0",
   "metadata": {
    "deletable": false,
    "id": "0a46ecc0",
    "nbgrader": {
     "checksum": "142f6d72b0d3cebe66beb17daca23275",
     "grade": false,
     "grade_id": "cell-b49d12358f261cf2",
     "locked": false,
     "schema_version": 3,
     "solution": true,
     "task": false
    }
   },
   "outputs": [
    {
     "data": {
      "text/html": [
       "<div>\n",
       "<style scoped>\n",
       "    .dataframe tbody tr th:only-of-type {\n",
       "        vertical-align: middle;\n",
       "    }\n",
       "\n",
       "    .dataframe tbody tr th {\n",
       "        vertical-align: top;\n",
       "    }\n",
       "\n",
       "    .dataframe thead th {\n",
       "        text-align: right;\n",
       "    }\n",
       "</style>\n",
       "<table border=\"1\" class=\"dataframe\">\n",
       "  <thead>\n",
       "    <tr style=\"text-align: right;\">\n",
       "      <th></th>\n",
       "      <th>age</th>\n",
       "      <th>total_price</th>\n",
       "      <th>month</th>\n",
       "      <th>year</th>\n",
       "    </tr>\n",
       "  </thead>\n",
       "  <tbody>\n",
       "    <tr>\n",
       "      <th>age</th>\n",
       "      <td>1.000000</td>\n",
       "      <td>0.165395</td>\n",
       "      <td>-0.047228</td>\n",
       "      <td>0.033462</td>\n",
       "    </tr>\n",
       "    <tr>\n",
       "      <th>total_price</th>\n",
       "      <td>0.165395</td>\n",
       "      <td>1.000000</td>\n",
       "      <td>-0.037847</td>\n",
       "      <td>-0.076287</td>\n",
       "    </tr>\n",
       "    <tr>\n",
       "      <th>month</th>\n",
       "      <td>-0.047228</td>\n",
       "      <td>-0.037847</td>\n",
       "      <td>1.000000</td>\n",
       "      <td>-0.754006</td>\n",
       "    </tr>\n",
       "    <tr>\n",
       "      <th>year</th>\n",
       "      <td>0.033462</td>\n",
       "      <td>-0.076287</td>\n",
       "      <td>-0.754006</td>\n",
       "      <td>1.000000</td>\n",
       "    </tr>\n",
       "  </tbody>\n",
       "</table>\n",
       "</div>"
      ],
      "text/plain": [
       "                  age  total_price     month      year\n",
       "age          1.000000     0.165395 -0.047228  0.033462\n",
       "total_price  0.165395     1.000000 -0.037847 -0.076287\n",
       "month       -0.047228    -0.037847  1.000000 -0.754006\n",
       "year         0.033462    -0.076287 -0.754006  1.000000"
      ]
     },
     "execution_count": 31,
     "metadata": {},
     "output_type": "execute_result"
    }
   ],
   "source": [
    "purchases_c_mean.corr(method='pearson')"
   ]
  },
  {
   "cell_type": "markdown",
   "id": "e2025916",
   "metadata": {
    "id": "e2025916"
   },
   "source": [
    "### Step 13\n",
    "We found correlation in the data present on the previous step and made some conclusions based on this data. However, we have to make sure that we can generalize our conclusion to the corresponding population. To do it, let us perform a statistical test of the significance of correlation. This can be done with `scipy.stats.pearsonr`. However, our data contains `NaN`'s in column `age` (there are registered customers with unknown age)."
   ]
  },
  {
   "cell_type": "code",
   "execution_count": 32,
   "id": "7dc5fc0e",
   "metadata": {
    "deletable": false,
    "id": "7dc5fc0e",
    "nbgrader": {
     "checksum": "3f8a3f77a0351a26d6bcf13ec670f662",
     "grade": false,
     "grade_id": "cell-952ef9e07ecc7e07",
     "locked": false,
     "schema_version": 3,
     "solution": true,
     "task": false
    }
   },
   "outputs": [
    {
     "data": {
      "text/plain": [
       "PearsonRResult(statistic=0.16539508120771906, pvalue=1.8110789103295103e-06)"
      ]
     },
     "execution_count": 32,
     "metadata": {},
     "output_type": "execute_result"
    }
   ],
   "source": [
    "from scipy.stats import pearsonr\n",
    "\n",
    "data = purchases_c_mean.dropna(subset=['age'])\n",
    "pearsonr(x=data['age'],\n",
    "         y=data['total_price'],\n",
    "         alternative='two-sided')"
   ]
  },
  {
   "cell_type": "markdown",
   "id": "74a231e9",
   "metadata": {
    "id": "74a231e9"
   },
   "source": [
    "### Step 14\n",
    "Now we are going to do the main investigation. We want to understand how special offers in our shops affect customers' behaviour. To do it, we have to identify those purchases that are made during special offers. This can be a bit tricky: for each purchase we know its date and shop id. For each shop we also know the dates of all special offers (there can be several). So for each purchase we have to compare its date with dates of all offers that took place in the corresponding shop.\n",
    "\n",
    "As a first step, let us try to join `purchases_c` with `shops`. Name this table `full_df_preliminary`."
   ]
  },
  {
   "cell_type": "code",
   "execution_count": 33,
   "id": "d67a5ab9",
   "metadata": {},
   "outputs": [
    {
     "data": {
      "text/html": [
       "<div>\n",
       "<style scoped>\n",
       "    .dataframe tbody tr th:only-of-type {\n",
       "        vertical-align: middle;\n",
       "    }\n",
       "\n",
       "    .dataframe tbody tr th {\n",
       "        vertical-align: top;\n",
       "    }\n",
       "\n",
       "    .dataframe thead th {\n",
       "        text-align: right;\n",
       "    }\n",
       "</style>\n",
       "<table border=\"1\" class=\"dataframe\">\n",
       "  <thead>\n",
       "    <tr style=\"text-align: right;\">\n",
       "      <th></th>\n",
       "      <th>customer_id</th>\n",
       "      <th>age</th>\n",
       "      <th>date</th>\n",
       "      <th>shop_id</th>\n",
       "      <th>total_price</th>\n",
       "      <th>month</th>\n",
       "      <th>year</th>\n",
       "    </tr>\n",
       "  </thead>\n",
       "  <tbody>\n",
       "    <tr>\n",
       "      <th>0</th>\n",
       "      <td>1149</td>\n",
       "      <td>71.0</td>\n",
       "      <td>2019-05-15</td>\n",
       "      <td>60</td>\n",
       "      <td>40.143994</td>\n",
       "      <td>5</td>\n",
       "      <td>2019</td>\n",
       "    </tr>\n",
       "    <tr>\n",
       "      <th>1</th>\n",
       "      <td>1149</td>\n",
       "      <td>71.0</td>\n",
       "      <td>2018-06-14</td>\n",
       "      <td>60</td>\n",
       "      <td>307.206163</td>\n",
       "      <td>6</td>\n",
       "      <td>2018</td>\n",
       "    </tr>\n",
       "    <tr>\n",
       "      <th>2</th>\n",
       "      <td>1149</td>\n",
       "      <td>71.0</td>\n",
       "      <td>2018-09-23</td>\n",
       "      <td>4</td>\n",
       "      <td>1327.170365</td>\n",
       "      <td>9</td>\n",
       "      <td>2018</td>\n",
       "    </tr>\n",
       "  </tbody>\n",
       "</table>\n",
       "</div>"
      ],
      "text/plain": [
       "   customer_id   age       date  shop_id  total_price  month  year\n",
       "0         1149  71.0 2019-05-15       60    40.143994      5  2019\n",
       "1         1149  71.0 2018-06-14       60   307.206163      6  2018\n",
       "2         1149  71.0 2018-09-23        4  1327.170365      9  2018"
      ]
     },
     "execution_count": 33,
     "metadata": {},
     "output_type": "execute_result"
    }
   ],
   "source": [
    "purchases_c.head(3)"
   ]
  },
  {
   "cell_type": "code",
   "execution_count": 34,
   "id": "b48f4bb0",
   "metadata": {},
   "outputs": [
    {
     "data": {
      "text/html": [
       "<div>\n",
       "<style scoped>\n",
       "    .dataframe tbody tr th:only-of-type {\n",
       "        vertical-align: middle;\n",
       "    }\n",
       "\n",
       "    .dataframe tbody tr th {\n",
       "        vertical-align: top;\n",
       "    }\n",
       "\n",
       "    .dataframe thead th {\n",
       "        text-align: right;\n",
       "    }\n",
       "</style>\n",
       "<table border=\"1\" class=\"dataframe\">\n",
       "  <thead>\n",
       "    <tr style=\"text-align: right;\">\n",
       "      <th></th>\n",
       "      <th>shop_id</th>\n",
       "      <th>offer_begin</th>\n",
       "      <th>offer_end</th>\n",
       "    </tr>\n",
       "  </thead>\n",
       "  <tbody>\n",
       "    <tr>\n",
       "      <th>0</th>\n",
       "      <td>0</td>\n",
       "      <td>2019-02-28</td>\n",
       "      <td>2019-03-13</td>\n",
       "    </tr>\n",
       "    <tr>\n",
       "      <th>1</th>\n",
       "      <td>0</td>\n",
       "      <td>2018-07-22</td>\n",
       "      <td>2018-08-10</td>\n",
       "    </tr>\n",
       "    <tr>\n",
       "      <th>2</th>\n",
       "      <td>0</td>\n",
       "      <td>2018-09-21</td>\n",
       "      <td>2018-09-27</td>\n",
       "    </tr>\n",
       "  </tbody>\n",
       "</table>\n",
       "</div>"
      ],
      "text/plain": [
       "   shop_id offer_begin   offer_end\n",
       "0        0  2019-02-28  2019-03-13\n",
       "1        0  2018-07-22  2018-08-10\n",
       "2        0  2018-09-21  2018-09-27"
      ]
     },
     "execution_count": 34,
     "metadata": {},
     "output_type": "execute_result"
    }
   ],
   "source": [
    "shops.head(3)"
   ]
  },
  {
   "cell_type": "code",
   "execution_count": 35,
   "id": "03ce7869",
   "metadata": {},
   "outputs": [],
   "source": [
    "full_df_preliminary = purchases_c.merge(shops, how='left', on='shop_id')\n",
    "full_df_preliminary['offer_begin'] = full_df_preliminary['offer_begin'].astype(str)\n",
    "full_df_preliminary['offer_end'] = full_df_preliminary['offer_end'].astype(str)"
   ]
  },
  {
   "cell_type": "markdown",
   "id": "ac861b9f",
   "metadata": {
    "id": "ac861b9f"
   },
   "source": [
    "### Step 15\n",
    "Let us investigate the table `full_df_preliminary`. Each row of this table corresponds to some purchase. However, for some shops we have several special offers and therefore several rows in the table `shops`. During the join each purchase is joined to all rows of `shops` that correspond to a particular shop. Therefore, purchases are duplicated, and we lost information on which rows in `full_df_preliminary` correspond to which purchase. (For example, the last two rows seem to correspond to the same purchase, but can we be sure?) This is due to the fact that table `purchases_c` don't have any explicit column with purchase identifier. Let us add it. As each row of `purchases_c` corresponds to exactly one purchase, table index can work as such an identifier."
   ]
  },
  {
   "cell_type": "code",
   "execution_count": 37,
   "id": "968c0c51",
   "metadata": {
    "deletable": false,
    "id": "968c0c51",
    "nbgrader": {
     "checksum": "711532e6ab63c11aab5b7dd9d298b3af",
     "grade": false,
     "grade_id": "cell-8414788809192d4e",
     "locked": false,
     "schema_version": 3,
     "solution": true,
     "task": false
    }
   },
   "outputs": [
    {
     "data": {
      "text/html": [
       "<div>\n",
       "<style scoped>\n",
       "    .dataframe tbody tr th:only-of-type {\n",
       "        vertical-align: middle;\n",
       "    }\n",
       "\n",
       "    .dataframe tbody tr th {\n",
       "        vertical-align: top;\n",
       "    }\n",
       "\n",
       "    .dataframe thead th {\n",
       "        text-align: right;\n",
       "    }\n",
       "</style>\n",
       "<table border=\"1\" class=\"dataframe\">\n",
       "  <thead>\n",
       "    <tr style=\"text-align: right;\">\n",
       "      <th></th>\n",
       "      <th>customer_id</th>\n",
       "      <th>age</th>\n",
       "      <th>date</th>\n",
       "      <th>shop_id</th>\n",
       "      <th>total_price</th>\n",
       "      <th>month</th>\n",
       "      <th>year</th>\n",
       "      <th>offer_begin</th>\n",
       "      <th>offer_end</th>\n",
       "      <th>index</th>\n",
       "    </tr>\n",
       "  </thead>\n",
       "  <tbody>\n",
       "    <tr>\n",
       "      <th>0</th>\n",
       "      <td>1149</td>\n",
       "      <td>71.0</td>\n",
       "      <td>2019-05-15</td>\n",
       "      <td>60</td>\n",
       "      <td>40.143994</td>\n",
       "      <td>5</td>\n",
       "      <td>2019</td>\n",
       "      <td>2018-07-07</td>\n",
       "      <td>2018-08-02</td>\n",
       "      <td>0</td>\n",
       "    </tr>\n",
       "    <tr>\n",
       "      <th>1</th>\n",
       "      <td>1149</td>\n",
       "      <td>71.0</td>\n",
       "      <td>2018-06-14</td>\n",
       "      <td>60</td>\n",
       "      <td>307.206163</td>\n",
       "      <td>6</td>\n",
       "      <td>2018</td>\n",
       "      <td>2018-07-07</td>\n",
       "      <td>2018-08-02</td>\n",
       "      <td>1</td>\n",
       "    </tr>\n",
       "    <tr>\n",
       "      <th>2</th>\n",
       "      <td>1149</td>\n",
       "      <td>71.0</td>\n",
       "      <td>2018-09-23</td>\n",
       "      <td>4</td>\n",
       "      <td>1327.170365</td>\n",
       "      <td>9</td>\n",
       "      <td>2018</td>\n",
       "      <td>2018-08-28</td>\n",
       "      <td>2018-09-28</td>\n",
       "      <td>2</td>\n",
       "    </tr>\n",
       "    <tr>\n",
       "      <th>3</th>\n",
       "      <td>1149</td>\n",
       "      <td>71.0</td>\n",
       "      <td>2018-09-23</td>\n",
       "      <td>4</td>\n",
       "      <td>1327.170365</td>\n",
       "      <td>9</td>\n",
       "      <td>2018</td>\n",
       "      <td>2018-08-28</td>\n",
       "      <td>2018-09-04</td>\n",
       "      <td>2</td>\n",
       "    </tr>\n",
       "    <tr>\n",
       "      <th>4</th>\n",
       "      <td>1149</td>\n",
       "      <td>71.0</td>\n",
       "      <td>2018-07-04</td>\n",
       "      <td>22</td>\n",
       "      <td>151.766925</td>\n",
       "      <td>7</td>\n",
       "      <td>2018</td>\n",
       "      <td>2019-01-14</td>\n",
       "      <td>2019-02-12</td>\n",
       "      <td>3</td>\n",
       "    </tr>\n",
       "    <tr>\n",
       "      <th>...</th>\n",
       "      <td>...</td>\n",
       "      <td>...</td>\n",
       "      <td>...</td>\n",
       "      <td>...</td>\n",
       "      <td>...</td>\n",
       "      <td>...</td>\n",
       "      <td>...</td>\n",
       "      <td>...</td>\n",
       "      <td>...</td>\n",
       "      <td>...</td>\n",
       "    </tr>\n",
       "    <tr>\n",
       "      <th>69403</th>\n",
       "      <td>562</td>\n",
       "      <td>22.0</td>\n",
       "      <td>2018-12-16</td>\n",
       "      <td>74</td>\n",
       "      <td>1075.034721</td>\n",
       "      <td>12</td>\n",
       "      <td>2018</td>\n",
       "      <td>2018-09-14</td>\n",
       "      <td>2018-10-12</td>\n",
       "      <td>28796</td>\n",
       "    </tr>\n",
       "    <tr>\n",
       "      <th>69404</th>\n",
       "      <td>562</td>\n",
       "      <td>22.0</td>\n",
       "      <td>2018-12-16</td>\n",
       "      <td>74</td>\n",
       "      <td>1075.034721</td>\n",
       "      <td>12</td>\n",
       "      <td>2018</td>\n",
       "      <td>2018-12-08</td>\n",
       "      <td>2019-01-10</td>\n",
       "      <td>28796</td>\n",
       "    </tr>\n",
       "    <tr>\n",
       "      <th>69405</th>\n",
       "      <td>562</td>\n",
       "      <td>22.0</td>\n",
       "      <td>2018-12-16</td>\n",
       "      <td>74</td>\n",
       "      <td>1075.034721</td>\n",
       "      <td>12</td>\n",
       "      <td>2018</td>\n",
       "      <td>2018-08-22</td>\n",
       "      <td>2018-08-28</td>\n",
       "      <td>28796</td>\n",
       "    </tr>\n",
       "    <tr>\n",
       "      <th>69406</th>\n",
       "      <td>562</td>\n",
       "      <td>22.0</td>\n",
       "      <td>2018-11-04</td>\n",
       "      <td>29</td>\n",
       "      <td>431.440952</td>\n",
       "      <td>11</td>\n",
       "      <td>2018</td>\n",
       "      <td>2018-05-26</td>\n",
       "      <td>2018-06-21</td>\n",
       "      <td>28797</td>\n",
       "    </tr>\n",
       "    <tr>\n",
       "      <th>69407</th>\n",
       "      <td>562</td>\n",
       "      <td>22.0</td>\n",
       "      <td>2018-09-07</td>\n",
       "      <td>73</td>\n",
       "      <td>91.104236</td>\n",
       "      <td>9</td>\n",
       "      <td>2018</td>\n",
       "      <td>2019-05-08</td>\n",
       "      <td>2019-06-11</td>\n",
       "      <td>28798</td>\n",
       "    </tr>\n",
       "  </tbody>\n",
       "</table>\n",
       "<p>69408 rows × 10 columns</p>\n",
       "</div>"
      ],
      "text/plain": [
       "       customer_id   age       date  shop_id  total_price  month  year  \\\n",
       "0             1149  71.0 2019-05-15       60    40.143994      5  2019   \n",
       "1             1149  71.0 2018-06-14       60   307.206163      6  2018   \n",
       "2             1149  71.0 2018-09-23        4  1327.170365      9  2018   \n",
       "3             1149  71.0 2018-09-23        4  1327.170365      9  2018   \n",
       "4             1149  71.0 2018-07-04       22   151.766925      7  2018   \n",
       "...            ...   ...        ...      ...          ...    ...   ...   \n",
       "69403          562  22.0 2018-12-16       74  1075.034721     12  2018   \n",
       "69404          562  22.0 2018-12-16       74  1075.034721     12  2018   \n",
       "69405          562  22.0 2018-12-16       74  1075.034721     12  2018   \n",
       "69406          562  22.0 2018-11-04       29   431.440952     11  2018   \n",
       "69407          562  22.0 2018-09-07       73    91.104236      9  2018   \n",
       "\n",
       "      offer_begin   offer_end  index  \n",
       "0      2018-07-07  2018-08-02      0  \n",
       "1      2018-07-07  2018-08-02      1  \n",
       "2      2018-08-28  2018-09-28      2  \n",
       "3      2018-08-28  2018-09-04      2  \n",
       "4      2019-01-14  2019-02-12      3  \n",
       "...           ...         ...    ...  \n",
       "69403  2018-09-14  2018-10-12  28796  \n",
       "69404  2018-12-08  2019-01-10  28796  \n",
       "69405  2018-08-22  2018-08-28  28796  \n",
       "69406  2018-05-26  2018-06-21  28797  \n",
       "69407  2019-05-08  2019-06-11  28798  \n",
       "\n",
       "[69408 rows x 10 columns]"
      ]
     },
     "execution_count": 37,
     "metadata": {},
     "output_type": "execute_result"
    }
   ],
   "source": [
    "full_df = full_df_preliminary.merge(purchases_c.reset_index())\n",
    "full_df"
   ]
  },
  {
   "cell_type": "markdown",
   "id": "bfcd65fb",
   "metadata": {
    "id": "bfcd65fb"
   },
   "source": [
    "### Step 16\n",
    "Now we need to check for each purchase, did it happen during any of the special offers or not. In the dataset `full_df`, each row relates some purchase with some special offer that happened in the same shop as a purchase. Let us check, is it true that this purchase happened during the corresponding offer?\n"
   ]
  },
  {
   "cell_type": "code",
   "execution_count": 39,
   "id": "d30311dd",
   "metadata": {
    "deletable": false,
    "id": "d30311dd",
    "nbgrader": {
     "checksum": "338c8fa45dcfcdf2403e1e16fd7acfe3",
     "grade": false,
     "grade_id": "cell-72280e238346d5dc",
     "locked": false,
     "schema_version": 3,
     "solution": true,
     "task": false
    }
   },
   "outputs": [
    {
     "data": {
      "text/html": [
       "<div>\n",
       "<style scoped>\n",
       "    .dataframe tbody tr th:only-of-type {\n",
       "        vertical-align: middle;\n",
       "    }\n",
       "\n",
       "    .dataframe tbody tr th {\n",
       "        vertical-align: top;\n",
       "    }\n",
       "\n",
       "    .dataframe thead th {\n",
       "        text-align: right;\n",
       "    }\n",
       "</style>\n",
       "<table border=\"1\" class=\"dataframe\">\n",
       "  <thead>\n",
       "    <tr style=\"text-align: right;\">\n",
       "      <th></th>\n",
       "      <th>customer_id</th>\n",
       "      <th>age</th>\n",
       "      <th>date</th>\n",
       "      <th>shop_id</th>\n",
       "      <th>total_price</th>\n",
       "      <th>month</th>\n",
       "      <th>year</th>\n",
       "      <th>offer_begin</th>\n",
       "      <th>offer_end</th>\n",
       "      <th>index</th>\n",
       "      <th>offer</th>\n",
       "    </tr>\n",
       "  </thead>\n",
       "  <tbody>\n",
       "    <tr>\n",
       "      <th>0</th>\n",
       "      <td>1149</td>\n",
       "      <td>71.0</td>\n",
       "      <td>2019-05-15</td>\n",
       "      <td>60</td>\n",
       "      <td>40.143994</td>\n",
       "      <td>5</td>\n",
       "      <td>2019</td>\n",
       "      <td>2018-07-07</td>\n",
       "      <td>2018-08-02</td>\n",
       "      <td>0</td>\n",
       "      <td>False</td>\n",
       "    </tr>\n",
       "    <tr>\n",
       "      <th>1</th>\n",
       "      <td>1149</td>\n",
       "      <td>71.0</td>\n",
       "      <td>2018-06-14</td>\n",
       "      <td>60</td>\n",
       "      <td>307.206163</td>\n",
       "      <td>6</td>\n",
       "      <td>2018</td>\n",
       "      <td>2018-07-07</td>\n",
       "      <td>2018-08-02</td>\n",
       "      <td>1</td>\n",
       "      <td>False</td>\n",
       "    </tr>\n",
       "    <tr>\n",
       "      <th>2</th>\n",
       "      <td>1149</td>\n",
       "      <td>71.0</td>\n",
       "      <td>2018-09-23</td>\n",
       "      <td>4</td>\n",
       "      <td>1327.170365</td>\n",
       "      <td>9</td>\n",
       "      <td>2018</td>\n",
       "      <td>2018-08-28</td>\n",
       "      <td>2018-09-28</td>\n",
       "      <td>2</td>\n",
       "      <td>True</td>\n",
       "    </tr>\n",
       "    <tr>\n",
       "      <th>3</th>\n",
       "      <td>1149</td>\n",
       "      <td>71.0</td>\n",
       "      <td>2018-09-23</td>\n",
       "      <td>4</td>\n",
       "      <td>1327.170365</td>\n",
       "      <td>9</td>\n",
       "      <td>2018</td>\n",
       "      <td>2018-08-28</td>\n",
       "      <td>2018-09-04</td>\n",
       "      <td>2</td>\n",
       "      <td>False</td>\n",
       "    </tr>\n",
       "    <tr>\n",
       "      <th>4</th>\n",
       "      <td>1149</td>\n",
       "      <td>71.0</td>\n",
       "      <td>2018-07-04</td>\n",
       "      <td>22</td>\n",
       "      <td>151.766925</td>\n",
       "      <td>7</td>\n",
       "      <td>2018</td>\n",
       "      <td>2019-01-14</td>\n",
       "      <td>2019-02-12</td>\n",
       "      <td>3</td>\n",
       "      <td>False</td>\n",
       "    </tr>\n",
       "  </tbody>\n",
       "</table>\n",
       "</div>"
      ],
      "text/plain": [
       "   customer_id   age       date  shop_id  total_price  month  year  \\\n",
       "0         1149  71.0 2019-05-15       60    40.143994      5  2019   \n",
       "1         1149  71.0 2018-06-14       60   307.206163      6  2018   \n",
       "2         1149  71.0 2018-09-23        4  1327.170365      9  2018   \n",
       "3         1149  71.0 2018-09-23        4  1327.170365      9  2018   \n",
       "4         1149  71.0 2018-07-04       22   151.766925      7  2018   \n",
       "\n",
       "  offer_begin  offer_end  index  offer  \n",
       "0  2018-07-07 2018-08-02      0  False  \n",
       "1  2018-07-07 2018-08-02      1  False  \n",
       "2  2018-08-28 2018-09-28      2   True  \n",
       "3  2018-08-28 2018-09-04      2  False  \n",
       "4  2019-01-14 2019-02-12      3  False  "
      ]
     },
     "execution_count": 39,
     "metadata": {},
     "output_type": "execute_result"
    }
   ],
   "source": [
    "full_df_offer = full_df.copy()\n",
    "\n",
    "full_df_offer['offer_begin'] = pd.to_datetime(full_df_offer['offer_begin'])\n",
    "full_df_offer['offer_end'] = pd.to_datetime(full_df_offer['offer_end'])\n",
    "\n",
    "full_df_offer['offer'] = full_df_offer.apply(lambda x: x.offer_begin <= x.date and x.date <= x.offer_end, axis=1)\n",
    "full_df_offer.head()"
   ]
  },
  {
   "cell_type": "code",
   "execution_count": 40,
   "id": "4d7d09fd",
   "metadata": {
    "deletable": false,
    "editable": false,
    "id": "4d7d09fd",
    "nbgrader": {
     "checksum": "5bc3c6253b86389489682486f3909035",
     "grade": true,
     "grade_id": "cell-158644e2bb557078",
     "locked": true,
     "points": 2,
     "schema_version": 3,
     "solution": false,
     "task": false
    }
   },
   "outputs": [],
   "source": [
    "from itertools import islice\n",
    "\n",
    "for _, row in islice(full_df_offer.iterrows(), 0, 1000):\n",
    "    assert (\n",
    "        (pd.to_datetime(row[\"date\"]) >= pd.to_datetime(row[\"offer_begin\"]))\n",
    "        & (pd.to_datetime(row[\"date\"]) <= pd.to_datetime(row[\"offer_end\"]))\n",
    "    ) == row[\"offer\"]"
   ]
  },
  {
   "cell_type": "markdown",
   "id": "2a2d0fe6",
   "metadata": {
    "id": "2a2d0fe6"
   },
   "source": [
    "\n",
    "Now we have a table that contains information on whether a particular purchase happened during a particular special offer. What we need is a new table that contains information on whether a particular purchase happened during *any* relevant special offer. This can be done by grouping and aggregating. Basically, we need to group our table by column `index` that contains a purchase identifier and apply a special aggregation function `any` to column `offer`. This function checks if there is any `True` element in a group and returns `True` in this case, otherwise (everything is `False`) it returns false. Also, we have to keep all other columns that are related to purchases as is. They are duplicated in the group, so we can just get the first value. This is done by the aggregation function `first`. To apply these functions to different columns, we have to pass a dictionary to method `.agg`. Let's see what's happening.\n"
   ]
  },
  {
   "cell_type": "code",
   "execution_count": 41,
   "id": "b601d6b3",
   "metadata": {
    "id": "b601d6b3"
   },
   "outputs": [
    {
     "data": {
      "text/html": [
       "<div>\n",
       "<style scoped>\n",
       "    .dataframe tbody tr th:only-of-type {\n",
       "        vertical-align: middle;\n",
       "    }\n",
       "\n",
       "    .dataframe tbody tr th {\n",
       "        vertical-align: top;\n",
       "    }\n",
       "\n",
       "    .dataframe thead th {\n",
       "        text-align: right;\n",
       "    }\n",
       "</style>\n",
       "<table border=\"1\" class=\"dataframe\">\n",
       "  <thead>\n",
       "    <tr style=\"text-align: right;\">\n",
       "      <th></th>\n",
       "      <th>customer_id</th>\n",
       "      <th>date</th>\n",
       "      <th>shop_id</th>\n",
       "      <th>total_price</th>\n",
       "      <th>month</th>\n",
       "      <th>age</th>\n",
       "      <th>offer</th>\n",
       "    </tr>\n",
       "    <tr>\n",
       "      <th>index</th>\n",
       "      <th></th>\n",
       "      <th></th>\n",
       "      <th></th>\n",
       "      <th></th>\n",
       "      <th></th>\n",
       "      <th></th>\n",
       "      <th></th>\n",
       "    </tr>\n",
       "  </thead>\n",
       "  <tbody>\n",
       "    <tr>\n",
       "      <th>0</th>\n",
       "      <td>1149</td>\n",
       "      <td>2019-05-15</td>\n",
       "      <td>60</td>\n",
       "      <td>40.143994</td>\n",
       "      <td>5</td>\n",
       "      <td>71.0</td>\n",
       "      <td>False</td>\n",
       "    </tr>\n",
       "    <tr>\n",
       "      <th>1</th>\n",
       "      <td>1149</td>\n",
       "      <td>2018-06-14</td>\n",
       "      <td>60</td>\n",
       "      <td>307.206163</td>\n",
       "      <td>6</td>\n",
       "      <td>71.0</td>\n",
       "      <td>False</td>\n",
       "    </tr>\n",
       "    <tr>\n",
       "      <th>2</th>\n",
       "      <td>1149</td>\n",
       "      <td>2018-09-23</td>\n",
       "      <td>4</td>\n",
       "      <td>1327.170365</td>\n",
       "      <td>9</td>\n",
       "      <td>71.0</td>\n",
       "      <td>True</td>\n",
       "    </tr>\n",
       "    <tr>\n",
       "      <th>3</th>\n",
       "      <td>1149</td>\n",
       "      <td>2018-07-04</td>\n",
       "      <td>22</td>\n",
       "      <td>151.766925</td>\n",
       "      <td>7</td>\n",
       "      <td>71.0</td>\n",
       "      <td>False</td>\n",
       "    </tr>\n",
       "    <tr>\n",
       "      <th>4</th>\n",
       "      <td>1149</td>\n",
       "      <td>2018-09-20</td>\n",
       "      <td>60</td>\n",
       "      <td>140.601729</td>\n",
       "      <td>9</td>\n",
       "      <td>71.0</td>\n",
       "      <td>False</td>\n",
       "    </tr>\n",
       "    <tr>\n",
       "      <th>...</th>\n",
       "      <td>...</td>\n",
       "      <td>...</td>\n",
       "      <td>...</td>\n",
       "      <td>...</td>\n",
       "      <td>...</td>\n",
       "      <td>...</td>\n",
       "      <td>...</td>\n",
       "    </tr>\n",
       "    <tr>\n",
       "      <th>28794</th>\n",
       "      <td>562</td>\n",
       "      <td>2019-05-11</td>\n",
       "      <td>74</td>\n",
       "      <td>592.305574</td>\n",
       "      <td>5</td>\n",
       "      <td>22.0</td>\n",
       "      <td>False</td>\n",
       "    </tr>\n",
       "    <tr>\n",
       "      <th>28795</th>\n",
       "      <td>562</td>\n",
       "      <td>2018-12-08</td>\n",
       "      <td>74</td>\n",
       "      <td>232.074279</td>\n",
       "      <td>12</td>\n",
       "      <td>22.0</td>\n",
       "      <td>True</td>\n",
       "    </tr>\n",
       "    <tr>\n",
       "      <th>28796</th>\n",
       "      <td>562</td>\n",
       "      <td>2018-12-16</td>\n",
       "      <td>74</td>\n",
       "      <td>1075.034721</td>\n",
       "      <td>12</td>\n",
       "      <td>22.0</td>\n",
       "      <td>True</td>\n",
       "    </tr>\n",
       "    <tr>\n",
       "      <th>28797</th>\n",
       "      <td>562</td>\n",
       "      <td>2018-11-04</td>\n",
       "      <td>29</td>\n",
       "      <td>431.440952</td>\n",
       "      <td>11</td>\n",
       "      <td>22.0</td>\n",
       "      <td>False</td>\n",
       "    </tr>\n",
       "    <tr>\n",
       "      <th>28798</th>\n",
       "      <td>562</td>\n",
       "      <td>2018-09-07</td>\n",
       "      <td>73</td>\n",
       "      <td>91.104236</td>\n",
       "      <td>9</td>\n",
       "      <td>22.0</td>\n",
       "      <td>False</td>\n",
       "    </tr>\n",
       "  </tbody>\n",
       "</table>\n",
       "<p>28799 rows × 7 columns</p>\n",
       "</div>"
      ],
      "text/plain": [
       "       customer_id       date  shop_id  total_price  month   age  offer\n",
       "index                                                                  \n",
       "0             1149 2019-05-15       60    40.143994      5  71.0  False\n",
       "1             1149 2018-06-14       60   307.206163      6  71.0  False\n",
       "2             1149 2018-09-23        4  1327.170365      9  71.0   True\n",
       "3             1149 2018-07-04       22   151.766925      7  71.0  False\n",
       "4             1149 2018-09-20       60   140.601729      9  71.0  False\n",
       "...            ...        ...      ...          ...    ...   ...    ...\n",
       "28794          562 2019-05-11       74   592.305574      5  22.0  False\n",
       "28795          562 2018-12-08       74   232.074279     12  22.0   True\n",
       "28796          562 2018-12-16       74  1075.034721     12  22.0   True\n",
       "28797          562 2018-11-04       29   431.440952     11  22.0  False\n",
       "28798          562 2018-09-07       73    91.104236      9  22.0  False\n",
       "\n",
       "[28799 rows x 7 columns]"
      ]
     },
     "execution_count": 41,
     "metadata": {},
     "output_type": "execute_result"
    }
   ],
   "source": [
    "purchases_offer = full_df_offer.groupby(\"index\").agg(\n",
    "    {\n",
    "        \"customer_id\": \"first\",\n",
    "        \"date\": \"first\",\n",
    "        \"shop_id\": \"first\",\n",
    "        \"total_price\": \"first\",\n",
    "        \"month\": \"first\",\n",
    "        \"age\": \"first\",\n",
    "        \"offer\": \"any\",\n",
    "    }\n",
    ")\n",
    "purchases_offer"
   ]
  },
  {
   "cell_type": "markdown",
   "id": "90e699dd",
   "metadata": {
    "id": "90e699dd"
   },
   "source": [
    "### Step 17\n",
    "Do people tend to spend more money when they make a purchase during a special offer? Let's check it!\n",
    "\n",
    "First of all, we know that during December people spend more money in shops due to holidays and at the time shops usually announce more special offers during December. As we are interested in the effect of special offers alone, let us remove all purchases that happened during December.\n",
    "\n",
    "Then create a table which rows are customers that contains two columns: in one column we have average of all prices of purchases that were made during special offers, and in the second the same for purchases that were not made during special offers. Drop all rows that contain `NaN`'s. Then apply an appropriate statistical test to check if there is any statistically significant difference between these columns.\n",
    "\n",
    "\n"
   ]
  },
  {
   "cell_type": "code",
   "execution_count": 42,
   "id": "e1314ed2",
   "metadata": {
    "deletable": false,
    "id": "e1314ed2",
    "nbgrader": {
     "checksum": "c8103dc0ef0df87757fec5507fde9022",
     "grade": false,
     "grade_id": "cell-ba9d2b1c164cb3e5",
     "locked": false,
     "schema_version": 3,
     "solution": true,
     "task": false
    }
   },
   "outputs": [
    {
     "data": {
      "text/html": [
       "<div>\n",
       "<style scoped>\n",
       "    .dataframe tbody tr th:only-of-type {\n",
       "        vertical-align: middle;\n",
       "    }\n",
       "\n",
       "    .dataframe tbody tr th {\n",
       "        vertical-align: top;\n",
       "    }\n",
       "\n",
       "    .dataframe thead th {\n",
       "        text-align: right;\n",
       "    }\n",
       "</style>\n",
       "<table border=\"1\" class=\"dataframe\">\n",
       "  <thead>\n",
       "    <tr style=\"text-align: right;\">\n",
       "      <th></th>\n",
       "      <th>customer_id</th>\n",
       "      <th>total_price</th>\n",
       "      <th>offer</th>\n",
       "    </tr>\n",
       "    <tr>\n",
       "      <th>index</th>\n",
       "      <th></th>\n",
       "      <th></th>\n",
       "      <th></th>\n",
       "    </tr>\n",
       "  </thead>\n",
       "  <tbody>\n",
       "    <tr>\n",
       "      <th>0</th>\n",
       "      <td>1149</td>\n",
       "      <td>40.143994</td>\n",
       "      <td>False</td>\n",
       "    </tr>\n",
       "    <tr>\n",
       "      <th>1</th>\n",
       "      <td>1149</td>\n",
       "      <td>307.206163</td>\n",
       "      <td>False</td>\n",
       "    </tr>\n",
       "    <tr>\n",
       "      <th>2</th>\n",
       "      <td>1149</td>\n",
       "      <td>1327.170365</td>\n",
       "      <td>True</td>\n",
       "    </tr>\n",
       "    <tr>\n",
       "      <th>3</th>\n",
       "      <td>1149</td>\n",
       "      <td>151.766925</td>\n",
       "      <td>False</td>\n",
       "    </tr>\n",
       "    <tr>\n",
       "      <th>4</th>\n",
       "      <td>1149</td>\n",
       "      <td>140.601729</td>\n",
       "      <td>False</td>\n",
       "    </tr>\n",
       "  </tbody>\n",
       "</table>\n",
       "</div>"
      ],
      "text/plain": [
       "       customer_id  total_price  offer\n",
       "index                                 \n",
       "0             1149    40.143994  False\n",
       "1             1149   307.206163  False\n",
       "2             1149  1327.170365   True\n",
       "3             1149   151.766925  False\n",
       "4             1149   140.601729  False"
      ]
     },
     "execution_count": 42,
     "metadata": {},
     "output_type": "execute_result"
    }
   ],
   "source": [
    "purchases_offer['month'] = purchases_offer['date'].dt.month\n",
    "del_index = purchases_offer[purchases_offer['month'] == 12].index\n",
    "purchases_offer_without_dec = purchases_offer.drop(del_index)[['customer_id', 'total_price', 'offer']]\n",
    "purchases_offer_without_dec.head(5)"
   ]
  },
  {
   "cell_type": "code",
   "execution_count": 43,
   "id": "99de0ccc",
   "metadata": {
    "id": "99de0ccc"
   },
   "outputs": [
    {
     "data": {
      "text/html": [
       "<div>\n",
       "<style scoped>\n",
       "    .dataframe tbody tr th:only-of-type {\n",
       "        vertical-align: middle;\n",
       "    }\n",
       "\n",
       "    .dataframe tbody tr th {\n",
       "        vertical-align: top;\n",
       "    }\n",
       "\n",
       "    .dataframe thead th {\n",
       "        text-align: right;\n",
       "    }\n",
       "</style>\n",
       "<table border=\"1\" class=\"dataframe\">\n",
       "  <thead>\n",
       "    <tr style=\"text-align: right;\">\n",
       "      <th></th>\n",
       "      <th>price_with_offers</th>\n",
       "      <th>price_without_offers</th>\n",
       "    </tr>\n",
       "    <tr>\n",
       "      <th>customer_id</th>\n",
       "      <th></th>\n",
       "      <th></th>\n",
       "    </tr>\n",
       "  </thead>\n",
       "  <tbody>\n",
       "    <tr>\n",
       "      <th>0</th>\n",
       "      <td>901.935686</td>\n",
       "      <td>685.331168</td>\n",
       "    </tr>\n",
       "    <tr>\n",
       "      <th>2</th>\n",
       "      <td>318.049544</td>\n",
       "      <td>389.216152</td>\n",
       "    </tr>\n",
       "    <tr>\n",
       "      <th>3</th>\n",
       "      <td>551.356873</td>\n",
       "      <td>311.611398</td>\n",
       "    </tr>\n",
       "    <tr>\n",
       "      <th>4</th>\n",
       "      <td>325.092632</td>\n",
       "      <td>347.161530</td>\n",
       "    </tr>\n",
       "    <tr>\n",
       "      <th>5</th>\n",
       "      <td>279.079141</td>\n",
       "      <td>487.628759</td>\n",
       "    </tr>\n",
       "  </tbody>\n",
       "</table>\n",
       "</div>"
      ],
      "text/plain": [
       "             price_with_offers  price_without_offers\n",
       "customer_id                                         \n",
       "0                   901.935686            685.331168\n",
       "2                   318.049544            389.216152\n",
       "3                   551.356873            311.611398\n",
       "4                   325.092632            347.161530\n",
       "5                   279.079141            487.628759"
      ]
     },
     "execution_count": 43,
     "metadata": {},
     "output_type": "execute_result"
    }
   ],
   "source": [
    "purchases_with_offers = purchases_offer_without_dec\\\n",
    "                                        .loc[purchases_offer_without_dec.offer == True]\\\n",
    "                                        .groupby('customer_id')\\\n",
    "                                        .mean()\\\n",
    "                                        .rename(columns={'total_price': 'price_with_offers'})\n",
    "purchases_without_offers = purchases_offer_without_dec\\\n",
    "                                            .loc[purchases_offer_without_dec.offer == False]\\\n",
    "                                            .groupby('customer_id')\\\n",
    "                                            .mean()\\\n",
    "                                            .rename(columns={'total_price': 'price_without_offers'})\n",
    "data = purchases_with_offers.merge(purchases_without_offers, on='customer_id')\\\n",
    "                            [['price_with_offers', 'price_without_offers']]\n",
    "data.head(5)"
   ]
  },
  {
   "cell_type": "code",
   "execution_count": 44,
   "id": "478dfe04",
   "metadata": {
    "id": "478dfe04"
   },
   "outputs": [],
   "source": [
    "from scipy.stats import ttest_rel"
   ]
  },
  {
   "cell_type": "code",
   "execution_count": 45,
   "id": "3f92a37a",
   "metadata": {},
   "outputs": [
    {
     "data": {
      "text/plain": [
       "TtestResult(statistic=16.682645056499567, pvalue=3.221672499502215e-53, df=734)"
      ]
     },
     "execution_count": 45,
     "metadata": {},
     "output_type": "execute_result"
    }
   ],
   "source": [
    "a = np.array(data['price_with_offers'])\n",
    "b = np.array(data['price_without_offers'])\n",
    "ttest_rel(a, b, alternative='two-sided', nan_policy='omit')"
   ]
  },
  {
   "cell_type": "markdown",
   "id": "46c69945",
   "metadata": {},
   "source": [
    "## Results \n",
    "\n",
    "- W​e can reject null hypothesis.\n",
    "- W​e may safely assume that people spend more money per each visit during special offers.\n",
    "\n"
   ]
  }
 ],
 "metadata": {
  "colab": {
   "name": "Untitled1 (4).ipynb",
   "provenance": []
  },
  "kernelspec": {
   "display_name": "Python 3 (ipykernel)",
   "language": "python",
   "name": "python3"
  },
  "language_info": {
   "codemirror_mode": {
    "name": "ipython",
    "version": 3
   },
   "file_extension": ".py",
   "mimetype": "text/x-python",
   "name": "python",
   "nbconvert_exporter": "python",
   "pygments_lexer": "ipython3",
   "version": "3.11.4"
  }
 },
 "nbformat": 4,
 "nbformat_minor": 5
}
